{
 "cells": [
  {
   "cell_type": "code",
   "execution_count": 1,
   "id": "bce861b0",
   "metadata": {},
   "outputs": [],
   "source": [
    "# multiple fish, change direction when close\n"
   ]
  },
  {
   "cell_type": "code",
   "execution_count": 2,
   "id": "63025bfe",
   "metadata": {},
   "outputs": [
    {
     "name": "stdout",
     "output_type": "stream",
     "text": [
      "How many fish?18\n"
     ]
    },
    {
     "ename": "TclError",
     "evalue": "invalid command name \".!canvas\"",
     "output_type": "error",
     "traceback": [
      "\u001b[1;31m---------------------------------------------------------------------------\u001b[0m",
      "\u001b[1;31mTclError\u001b[0m                                  Traceback (most recent call last)",
      "Input \u001b[1;32mIn [2]\u001b[0m, in \u001b[0;36m<cell line: 71>\u001b[1;34m()\u001b[0m\n\u001b[0;32m     75\u001b[0m         fish\u001b[38;5;241m.\u001b[39mx_velocity \u001b[38;5;241m=\u001b[39m \u001b[38;5;241m-\u001b[39mfish\u001b[38;5;241m.\u001b[39mx_velocity\n\u001b[0;32m     76\u001b[0m         fish\u001b[38;5;241m.\u001b[39my_velocity \u001b[38;5;241m=\u001b[39m \u001b[38;5;241m-\u001b[39mfish\u001b[38;5;241m.\u001b[39my_velocity\n\u001b[1;32m---> 78\u001b[0m \u001b[43mfish\u001b[49m\u001b[38;5;241;43m.\u001b[39;49m\u001b[43mmove\u001b[49m\u001b[43m(\u001b[49m\u001b[43m)\u001b[49m\n\u001b[0;32m     79\u001b[0m fish\u001b[38;5;241m.\u001b[39mdraw()\n\u001b[0;32m     80\u001b[0m window\u001b[38;5;241m.\u001b[39mupdate()\n",
      "Input \u001b[1;32mIn [2]\u001b[0m, in \u001b[0;36mFish.move\u001b[1;34m(self)\u001b[0m\n\u001b[0;32m     37\u001b[0m \u001b[38;5;28;01mdef\u001b[39;00m \u001b[38;5;21mmove\u001b[39m(\u001b[38;5;28mself\u001b[39m):  \u001b[38;5;66;03m# method move \u001b[39;00m\n\u001b[1;32m---> 38\u001b[0m     \u001b[38;5;28;43mself\u001b[39;49m\u001b[38;5;241;43m.\u001b[39;49m\u001b[43msetx\u001b[49m\u001b[43m(\u001b[49m\u001b[38;5;28;43mself\u001b[39;49m\u001b[38;5;241;43m.\u001b[39;49m\u001b[43mxcor\u001b[49m\u001b[43m(\u001b[49m\u001b[43m)\u001b[49m\u001b[38;5;241;43m+\u001b[39;49m\u001b[38;5;28;43mself\u001b[39;49m\u001b[38;5;241;43m.\u001b[39;49m\u001b[43mx_velocity\u001b[49m\u001b[43m)\u001b[49m\n\u001b[0;32m     39\u001b[0m     \u001b[38;5;28mself\u001b[39m\u001b[38;5;241m.\u001b[39msety(\u001b[38;5;28mself\u001b[39m\u001b[38;5;241m.\u001b[39mycor()\u001b[38;5;241m+\u001b[39m\u001b[38;5;28mself\u001b[39m\u001b[38;5;241m.\u001b[39my_velocity)\n",
      "File \u001b[1;32m~\\anaconda3\\lib\\turtle.py:1809\u001b[0m, in \u001b[0;36mTNavigator.setx\u001b[1;34m(self, x)\u001b[0m\n\u001b[0;32m   1793\u001b[0m \u001b[38;5;28;01mdef\u001b[39;00m \u001b[38;5;21msetx\u001b[39m(\u001b[38;5;28mself\u001b[39m, x):\n\u001b[0;32m   1794\u001b[0m     \u001b[38;5;124;03m\"\"\"Set the turtle's first coordinate to x\u001b[39;00m\n\u001b[0;32m   1795\u001b[0m \n\u001b[0;32m   1796\u001b[0m \u001b[38;5;124;03m    Argument:\u001b[39;00m\n\u001b[1;32m   (...)\u001b[0m\n\u001b[0;32m   1807\u001b[0m \u001b[38;5;124;03m    (10.00, 240.00)\u001b[39;00m\n\u001b[0;32m   1808\u001b[0m \u001b[38;5;124;03m    \"\"\"\u001b[39;00m\n\u001b[1;32m-> 1809\u001b[0m     \u001b[38;5;28;43mself\u001b[39;49m\u001b[38;5;241;43m.\u001b[39;49m\u001b[43m_goto\u001b[49m\u001b[43m(\u001b[49m\u001b[43mVec2D\u001b[49m\u001b[43m(\u001b[49m\u001b[43mx\u001b[49m\u001b[43m,\u001b[49m\u001b[43m \u001b[49m\u001b[38;5;28;43mself\u001b[39;49m\u001b[38;5;241;43m.\u001b[39;49m\u001b[43m_position\u001b[49m\u001b[43m[\u001b[49m\u001b[38;5;241;43m1\u001b[39;49m\u001b[43m]\u001b[49m\u001b[43m)\u001b[49m\u001b[43m)\u001b[49m\n",
      "File \u001b[1;32m~\\anaconda3\\lib\\turtle.py:3160\u001b[0m, in \u001b[0;36mRawTurtle._goto\u001b[1;34m(self, end)\u001b[0m\n\u001b[0;32m   3152\u001b[0m go_modes \u001b[38;5;241m=\u001b[39m ( \u001b[38;5;28mself\u001b[39m\u001b[38;5;241m.\u001b[39m_drawing,\n\u001b[0;32m   3153\u001b[0m              \u001b[38;5;28mself\u001b[39m\u001b[38;5;241m.\u001b[39m_pencolor,\n\u001b[0;32m   3154\u001b[0m              \u001b[38;5;28mself\u001b[39m\u001b[38;5;241m.\u001b[39m_pensize,\n\u001b[0;32m   3155\u001b[0m              \u001b[38;5;28misinstance\u001b[39m(\u001b[38;5;28mself\u001b[39m\u001b[38;5;241m.\u001b[39m_fillpath, \u001b[38;5;28mlist\u001b[39m))\n\u001b[0;32m   3156\u001b[0m screen \u001b[38;5;241m=\u001b[39m \u001b[38;5;28mself\u001b[39m\u001b[38;5;241m.\u001b[39mscreen\n\u001b[0;32m   3157\u001b[0m undo_entry \u001b[38;5;241m=\u001b[39m (\u001b[38;5;124m\"\u001b[39m\u001b[38;5;124mgo\u001b[39m\u001b[38;5;124m\"\u001b[39m, \u001b[38;5;28mself\u001b[39m\u001b[38;5;241m.\u001b[39m_position, end, go_modes,\n\u001b[0;32m   3158\u001b[0m               (\u001b[38;5;28mself\u001b[39m\u001b[38;5;241m.\u001b[39mcurrentLineItem,\n\u001b[0;32m   3159\u001b[0m               \u001b[38;5;28mself\u001b[39m\u001b[38;5;241m.\u001b[39mcurrentLine[:],\n\u001b[1;32m-> 3160\u001b[0m               \u001b[43mscreen\u001b[49m\u001b[38;5;241;43m.\u001b[39;49m\u001b[43m_pointlist\u001b[49m\u001b[43m(\u001b[49m\u001b[38;5;28;43mself\u001b[39;49m\u001b[38;5;241;43m.\u001b[39;49m\u001b[43mcurrentLineItem\u001b[49m\u001b[43m)\u001b[49m,\n\u001b[0;32m   3161\u001b[0m               \u001b[38;5;28mself\u001b[39m\u001b[38;5;241m.\u001b[39mitems[:])\n\u001b[0;32m   3162\u001b[0m               )\n\u001b[0;32m   3163\u001b[0m \u001b[38;5;28;01mif\u001b[39;00m \u001b[38;5;28mself\u001b[39m\u001b[38;5;241m.\u001b[39mundobuffer:\n\u001b[0;32m   3164\u001b[0m     \u001b[38;5;28mself\u001b[39m\u001b[38;5;241m.\u001b[39mundobuffer\u001b[38;5;241m.\u001b[39mpush(undo_entry)\n",
      "File \u001b[1;32m~\\anaconda3\\lib\\turtle.py:754\u001b[0m, in \u001b[0;36mTurtleScreenBase._pointlist\u001b[1;34m(self, item)\u001b[0m\n\u001b[0;32m    746\u001b[0m \u001b[38;5;28;01mdef\u001b[39;00m \u001b[38;5;21m_pointlist\u001b[39m(\u001b[38;5;28mself\u001b[39m, item):\n\u001b[0;32m    747\u001b[0m     \u001b[38;5;124;03m\"\"\"returns list of coordinate-pairs of points of item\u001b[39;00m\n\u001b[0;32m    748\u001b[0m \u001b[38;5;124;03m    Example (for insiders):\u001b[39;00m\n\u001b[0;32m    749\u001b[0m \u001b[38;5;124;03m    >>> from turtle import *\u001b[39;00m\n\u001b[1;32m   (...)\u001b[0m\n\u001b[0;32m    752\u001b[0m \u001b[38;5;124;03m    (9.9999999999999982, 0.0)]\u001b[39;00m\n\u001b[0;32m    753\u001b[0m \u001b[38;5;124;03m    >>> \"\"\"\u001b[39;00m\n\u001b[1;32m--> 754\u001b[0m     cl \u001b[38;5;241m=\u001b[39m \u001b[38;5;28;43mself\u001b[39;49m\u001b[38;5;241;43m.\u001b[39;49m\u001b[43mcv\u001b[49m\u001b[38;5;241;43m.\u001b[39;49m\u001b[43mcoords\u001b[49m\u001b[43m(\u001b[49m\u001b[43mitem\u001b[49m\u001b[43m)\u001b[49m\n\u001b[0;32m    755\u001b[0m     pl \u001b[38;5;241m=\u001b[39m [(cl[i], \u001b[38;5;241m-\u001b[39mcl[i\u001b[38;5;241m+\u001b[39m\u001b[38;5;241m1\u001b[39m]) \u001b[38;5;28;01mfor\u001b[39;00m i \u001b[38;5;129;01min\u001b[39;00m \u001b[38;5;28mrange\u001b[39m(\u001b[38;5;241m0\u001b[39m, \u001b[38;5;28mlen\u001b[39m(cl), \u001b[38;5;241m2\u001b[39m)]\n\u001b[0;32m    756\u001b[0m     \u001b[38;5;28;01mreturn\u001b[39;00m  pl\n",
      "File \u001b[1;32m<string>:1\u001b[0m, in \u001b[0;36mcoords\u001b[1;34m(self, *args, **kw)\u001b[0m\n",
      "File \u001b[1;32m~\\anaconda3\\lib\\tkinter\\__init__.py:2766\u001b[0m, in \u001b[0;36mCanvas.coords\u001b[1;34m(self, *args)\u001b[0m\n\u001b[0;32m   2762\u001b[0m \u001b[38;5;124;03m\"\"\"Return a list of coordinates for the item given in ARGS.\"\"\"\u001b[39;00m\n\u001b[0;32m   2763\u001b[0m \u001b[38;5;66;03m# XXX Should use _flatten on args\u001b[39;00m\n\u001b[0;32m   2764\u001b[0m \u001b[38;5;28;01mreturn\u001b[39;00m [\u001b[38;5;28mself\u001b[39m\u001b[38;5;241m.\u001b[39mtk\u001b[38;5;241m.\u001b[39mgetdouble(x) \u001b[38;5;28;01mfor\u001b[39;00m x \u001b[38;5;129;01min\u001b[39;00m\n\u001b[0;32m   2765\u001b[0m                    \u001b[38;5;28mself\u001b[39m\u001b[38;5;241m.\u001b[39mtk\u001b[38;5;241m.\u001b[39msplitlist(\n\u001b[1;32m-> 2766\u001b[0m            \u001b[38;5;28;43mself\u001b[39;49m\u001b[38;5;241;43m.\u001b[39;49m\u001b[43mtk\u001b[49m\u001b[38;5;241;43m.\u001b[39;49m\u001b[43mcall\u001b[49m\u001b[43m(\u001b[49m\u001b[43m(\u001b[49m\u001b[38;5;28;43mself\u001b[39;49m\u001b[38;5;241;43m.\u001b[39;49m\u001b[43m_w\u001b[49m\u001b[43m,\u001b[49m\u001b[43m \u001b[49m\u001b[38;5;124;43m'\u001b[39;49m\u001b[38;5;124;43mcoords\u001b[39;49m\u001b[38;5;124;43m'\u001b[39;49m\u001b[43m)\u001b[49m\u001b[43m \u001b[49m\u001b[38;5;241;43m+\u001b[39;49m\u001b[43m \u001b[49m\u001b[43margs\u001b[49m\u001b[43m)\u001b[49m)]\n",
      "\u001b[1;31mTclError\u001b[0m: invalid command name \".!canvas\""
     ]
    }
   ],
   "source": [
    "import turtle\n",
    "import random\n",
    "\n",
    "turtle.register_shape('fish_40x20.gif')\n",
    "window = turtle.Screen()\n",
    "width = 1800\n",
    "height = 1000\n",
    "window.setup(width,height)\n",
    "window.tracer(0)\n",
    "\n",
    "def decision_maker():\n",
    "        i = random.randrange(0,1000)\n",
    "        if i == 1:\n",
    "            return 1\n",
    "        elif i  == 2:\n",
    "            return 2\n",
    "        else:\n",
    "            return 3\n",
    "\n",
    "\n",
    "class Fish(turtle.Turtle):\n",
    "    def __init__(self, x=0, y=0):   # define class:Fish variables\n",
    "        super().__init__()\n",
    "        self.penup()\n",
    "        self.hideturtle()\n",
    "        self.x_velocity = random.randint(-30, 50) / 50\n",
    "        self.y_velocity = random.randint(-30, 30) / 50\n",
    "        x = random.randrange(-0.3*width,0.3*width,60)\n",
    "        y = random.randrange(-0.3*height,0.3*height,60)\n",
    "        self.setposition(x, y)\n",
    "        self.shape('fish_40x20.gif')\n",
    "        \n",
    "    def draw(self):   # method draw \n",
    "        self.clear()\n",
    "        self.stamp()  # erase self and draw stamp at current coordinate\n",
    "        \n",
    "    def move(self):  # method move \n",
    "        self.setx(self.xcor()+self.x_velocity)\n",
    "        self.sety(self.ycor()+self.y_velocity)  # move coordinate of self\n",
    "        \n",
    "        \n",
    "    def bounce(self):                            #method bounce\n",
    "        if self.xcor() > 0.4*width:\n",
    "            self.x_velocity = -self.x_velocity\n",
    "        elif fish.xcor() < -0.4*width:\n",
    "            self.x_velocity = -self.x_velocity\n",
    "        elif fish.ycor() > 0.4*height:\n",
    "            self.y_velocity = -self.y_velocity\n",
    "        elif fish.ycor() < -0.4*height:\n",
    "            self.y_velocity = -self.y_velocity\n",
    "            \n",
    "    def random_movement(self):\n",
    "        if decision_maker() == 1:\n",
    "            fish.x_velocity = random.randint(-10, 50) / 50\n",
    "        elif decision_maker() == 2:\n",
    "            fish.y_velocity = random.randint(-10, 50) / 50\n",
    "            \n",
    "    def moving(self):\n",
    "        fish.bounce()\n",
    "        fish.random_movement()\n",
    "        \n",
    "        \n",
    "        \n",
    "        \n",
    "        \n",
    "fishh = [Fish() for _ in range(int(input(\"How many fish?\")))]      \n",
    "\n",
    "\n",
    "\n",
    "while True:\n",
    "    for fish in fishh:\n",
    "        fish.moving()\n",
    "        for otherfish in fishh:\n",
    "            if otherfish != fish and fish.distance(otherfish.xcor(), otherfish.ycor()) < 50:\n",
    "                fish.x_velocity = -fish.x_velocity\n",
    "                fish.y_velocity = -fish.y_velocity\n",
    "        \n",
    "        fish.move()\n",
    "        fish.draw()\n",
    "        window.update()\n"
   ]
  },
  {
   "cell_type": "code",
   "execution_count": null,
   "id": "4dcc9a04",
   "metadata": {},
   "outputs": [],
   "source": []
  }
 ],
 "metadata": {
  "kernelspec": {
   "display_name": "Python 3 (ipykernel)",
   "language": "python",
   "name": "python3"
  },
  "language_info": {
   "codemirror_mode": {
    "name": "ipython",
    "version": 3
   },
   "file_extension": ".py",
   "mimetype": "text/x-python",
   "name": "python",
   "nbconvert_exporter": "python",
   "pygments_lexer": "ipython3",
   "version": "3.9.12"
  },
  "vscode": {
   "interpreter": {
    "hash": "61a57a4b5406d2de388e2f91097d4e4bcd7d5f4a46f53a795aa28a02eed27fc5"
   }
  }
 },
 "nbformat": 4,
 "nbformat_minor": 5
}
