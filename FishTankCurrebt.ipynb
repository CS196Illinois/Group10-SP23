{
 "cells": [
  {
   "cell_type": "code",
   "execution_count": null,
   "id": "e7985c13",
   "metadata": {
    "scrolled": false
   },
   "outputs": [
    {
     "data": {
      "text/html": [
       "<div id=\"glowscript\" class=\"glowscript\"></div>"
      ],
      "text/plain": [
       "<IPython.core.display.HTML object>"
      ]
     },
     "metadata": {},
     "output_type": "display_data"
    },
    {
     "data": {
      "application/javascript": [
       "if (typeof Jupyter !== \"undefined\") { window.__context = { glowscript_container: $(\"#glowscript\").removeAttr(\"id\")};}else{ element.textContent = ' ';}"
      ],
      "text/plain": [
       "<IPython.core.display.Javascript object>"
      ]
     },
     "metadata": {},
     "output_type": "display_data"
    },
    {
     "data": {
      "application/javascript": [
       "if (typeof Jupyter !== \"undefined\") {require.undef(\"nbextensions/vpython_libraries/glow.min\");}else{element.textContent = ' ';}"
      ],
      "text/plain": [
       "<IPython.core.display.Javascript object>"
      ]
     },
     "metadata": {},
     "output_type": "display_data"
    },
    {
     "data": {
      "application/javascript": [
       "if (typeof Jupyter !== \"undefined\") {require.undef(\"nbextensions/vpython_libraries/glowcomm\");}else{element.textContent = ' ';}"
      ],
      "text/plain": [
       "<IPython.core.display.Javascript object>"
      ]
     },
     "metadata": {},
     "output_type": "display_data"
    },
    {
     "data": {
      "application/javascript": [
       "if (typeof Jupyter !== \"undefined\") {require.undef(\"nbextensions/vpython_libraries/jquery-ui.custom.min\");}else{element.textContent = ' ';}"
      ],
      "text/plain": [
       "<IPython.core.display.Javascript object>"
      ]
     },
     "metadata": {},
     "output_type": "display_data"
    },
    {
     "data": {
      "application/javascript": [
       "if (typeof Jupyter !== \"undefined\") {require([\"nbextensions/vpython_libraries/glow.min\"], function(){console.log(\"GLOW LOADED\");});}else{element.textContent = ' ';}"
      ],
      "text/plain": [
       "<IPython.core.display.Javascript object>"
      ]
     },
     "metadata": {},
     "output_type": "display_data"
    },
    {
     "data": {
      "application/javascript": [
       "if (typeof Jupyter !== \"undefined\") {require([\"nbextensions/vpython_libraries/glowcomm\"], function(){console.log(\"GLOWCOMM LOADED\");});}else{element.textContent = ' ';}"
      ],
      "text/plain": [
       "<IPython.core.display.Javascript object>"
      ]
     },
     "metadata": {},
     "output_type": "display_data"
    },
    {
     "data": {
      "application/javascript": [
       "if (typeof Jupyter !== \"undefined\") {require([\"nbextensions/vpython_libraries/jquery-ui.custom.min\"], function(){console.log(\"JQUERY LOADED\");});}else{element.textContent = ' ';}"
      ],
      "text/plain": [
       "<IPython.core.display.Javascript object>"
      ]
     },
     "metadata": {},
     "output_type": "display_data"
    }
   ],
   "source": [
    "from vpython import *\n",
    "import random\n",
    "import os\n",
    "\n",
    "#Converts STL files to triangle-based compound model for VPython\n",
    "\n",
    "def stl_to_triangles(fileinfo): # specify file\n",
    "    # Accept a file name or a file descriptor; make sure mode is 'rb' (read binary)\n",
    "    fd = open(fileinfo, mode='rb')\n",
    "    text = fd.read()\n",
    "    tris = [] # list of triangles to compound\n",
    "    if False: # prevent executing code for binary file\n",
    "        pass\n",
    "    else:\n",
    "        fd.seek(0)\n",
    "        fList = fd.readlines()\n",
    "    \n",
    "        # Decompose list into vertex positions and normals\n",
    "        vs = []\n",
    "        for line in fList:\n",
    "            FileLine = line.split( )\n",
    "            if FileLine[0] == b'facet':\n",
    "                N = vec(-float(FileLine[2]), float(FileLine[4]), float(FileLine[3]))\n",
    "            elif FileLine[0] == b'vertex':\n",
    "                vs.append( vertex(pos=vec(-float(FileLine[1]), float(FileLine[3]), float(FileLine[2])), normal=N, color=color.white) )\n",
    "                if len(vs) == 3:\n",
    "                    tris.append(triangle(vs=vs))\n",
    "                    vs = []\n",
    "    scaled = compound(tris)\n",
    "    scaled.size = vec(3.5,1,1)\n",
    "    \n",
    "    return scaled \n",
    "\n",
    "\n",
    "#Defines file paths for fish model\n",
    "\n",
    "notebook_path = os.path.abspath(\"FishTankCurrebt.ipynb\")\n",
    "fish_path = os.path.join(os.path.dirname(notebook_path), \"Videos/firstfish.stl\")\n",
    "\n",
    "# Create tank, fish\n",
    "\n",
    "tank = box(pos=vec(0,0,0), length=30, height=15, width=15, opacity=0.2, color=color.blue)\n",
    "fish = stl_to_triangles(fish_path)\n",
    "fish.pos = vec(0,0,0)\n",
    "fish_vel = 0 # fish's velocity vector\n",
    "fish_ang = vec(0,0,0)\n",
    "fish.color = color.red\n",
    "pellet = sphere(pos=vector(0, 0, 0), radius=0.5, color=color.red)\n",
    "gravity = vec(0, 0, -0.005)\n",
    "pellet.visible = False\n",
    "\n",
    "#Create pellet button\n",
    "\n",
    "def B(b):\n",
    "    pellet.visible = not pellet.visible\n",
    "\n",
    "button( bind=B, text='Add pellet' )\n",
    "scene.append_to_caption('\\n\\n')\n",
    "\n",
    "# Set up the simulation loop\n",
    "while True:\n",
    "    rate(300) # number of simulation frames per second\n",
    "    \n",
    "    # Check if fish has hit walls and reflect its direction smoothly\n",
    "    if fish.pos.x < -12 or fish.pos.x > 12:\n",
    "        fish_ang =  0.01*cross(vec(0,0,1), fish.axis)\n",
    "    elif (fish.pos.y < -4 or fish.pos.y > 4):\n",
    "        fish_ang =  0.01*cross(vec(1,0,0), fish.axis)\n",
    "    elif fish.pos.z < -4 or fish.pos.z > 4:\n",
    "        fish_ang =  0.01*cross(vec(0,1,0), fish.axis)\n",
    "    elif pellet.visible == True and mag(fish.axis + norm(fish.pos)) > 0.3:\n",
    "        fish_ang =  0.01*cross(cross(fish.axis, -fish.pos), fish.axis - fish.pos)\n",
    "        if mag(fish.pos - vec(0,0,0)) < 0.5:\n",
    "            pellet.visible = not pellet.visible  #If fish touches pellet, it disappears\n",
    "    else:\n",
    "        \n",
    "    #Random movement + updating observables\n",
    "    \n",
    "        fish_ang = vec(random.uniform(-0.001, 0.001), random.uniform(-0.01, 0.01), random.uniform(-0.01, 0.01))\n",
    "        fish_vel += random.uniform(-0.001, 0.001)\n",
    "\n",
    "    if abs(fish_vel) > 0.02 : #Make sure fish speed is bounded\n",
    "            if fish_vel > 0:\n",
    "                fish_vel = 0.02\n",
    "            else:\n",
    "                fish_vel = -0.02\n",
    "    if fish.pos.x < -15:\n",
    "        fish.pos.x = -15\n",
    "    elif fish.pos.x > 15:\n",
    "        fish.pos.x = 15\n",
    "    \n",
    "    if fish.pos.y < -7.5:\n",
    "        fish.pos.y = -7.5\n",
    "    elif fish.pos.y > 7.5:\n",
    "        fish.pos.y = 7.5\n",
    "    \n",
    "    if fish.pos.z < -7.5:\n",
    "        fish.pos.z = -7.5\n",
    "    elif fish.pos.z > 7.5:\n",
    "        fish.pos.z = 7.5\n",
    "    \n",
    "    fish.axis = norm(fish_ang + fish.axis)\n",
    "    fish.pos += abs(fish_vel) * norm(fish.axis)\n",
    "    \n",
    "    #NOTES: \n",
    "    \n",
    "    #Bound fish position - still occasionally leaves tank\n",
    "    #Make tank bigger, adjust turning radius\n",
    "    #Adjust turning cross products s.t. fish remains upright\n",
    "    #Import better fish model\n",
    "    #Fix turning cycles by edges\n",
    "    #MAKE CODE NEATER BY WRITING FUNCTIONS FOR THINGS!!!!\n",
    "    "
   ]
  },
  {
   "cell_type": "code",
   "execution_count": null,
   "id": "73e30c72",
   "metadata": {
    "scrolled": true
   },
   "outputs": [],
   "source": []
  },
  {
   "cell_type": "code",
   "execution_count": null,
   "id": "3628ae26",
   "metadata": {},
   "outputs": [],
   "source": []
  },
  {
   "cell_type": "code",
   "execution_count": null,
   "id": "e9ecff8a",
   "metadata": {},
   "outputs": [],
   "source": []
  },
  {
   "cell_type": "code",
   "execution_count": null,
   "id": "300aae74",
   "metadata": {},
   "outputs": [],
   "source": []
  }
 ],
 "metadata": {
  "kernelspec": {
   "display_name": "Python 3 (ipykernel)",
   "language": "python",
   "name": "python3"
  },
  "language_info": {
   "codemirror_mode": {
    "name": "ipython",
    "version": 3
   },
   "file_extension": ".py",
   "mimetype": "text/x-python",
   "name": "python",
   "nbconvert_exporter": "python",
   "pygments_lexer": "ipython3",
   "version": "3.10.9"
  }
 },
 "nbformat": 4,
 "nbformat_minor": 5
}
